{
 "cells": [
  {
   "cell_type": "code",
   "execution_count": 1,
   "metadata": {},
   "outputs": [],
   "source": [
    "from time_stitches import *\n",
    "from step1_functions import *\n",
    "from features import get_jerk\n",
    "from functions import *\n",
    "import os"
   ]
  },
  {
   "cell_type": "code",
   "execution_count": 2,
   "metadata": {},
   "outputs": [],
   "source": [
    "def get_path_length_g(time, pos):\n",
    "\n",
    "    dt = 1/120\n",
    "    diff_time = np.diff(time, axis=0)\n",
    "    mask_step_bigger_dt = (diff_time>dt)\n",
    "\n",
    "    pos_selected = pos[1:][~mask_step_bigger_dt]\n",
    "\n",
    "    # Calculate the differences in positions between consecutive samples\n",
    "    differences = np.diff(pos_selected, axis=0)\n",
    "    # Calculate the Euclidean distance (path length) between consecutive points\n",
    "    distances = np.linalg.norm(differences, axis=1)\n",
    "    # Sum up the distances to get the total path length\n",
    "    total_path_length = np.sum(distances)\n",
    "    return total_path_length"
   ]
  },
  {
   "cell_type": "code",
   "execution_count": 3,
   "metadata": {},
   "outputs": [],
   "source": [
    "def compute_v_acc_jerk(data_one_stitch): #data including time and position\n",
    "    dt = 1/120\n",
    "    diff_t_x_y_z = np.diff(data_one_stitch, axis = 0)\n",
    "    mask_step_bigger_dt = (diff_t_x_y_z[:,0]>dt)\n",
    "    t_x_y_z = diff_t_x_y_z[~mask_step_bigger_dt]\n",
    "    v_x_y_z = [t_x_y_z[:,1]/t_x_y_z[:,0], t_x_y_z[:,2]/t_x_y_z[:,0], t_x_y_z[:,3]/t_x_y_z[:,0]]\n",
    "    acc_x_y_z = [v_x_y_z[0]/t_x_y_z[:,0], v_x_y_z[1]/t_x_y_z[:,0], v_x_y_z[2]/t_x_y_z[:,0]]\n",
    "    jerk_x_x_z = [acc_x_y_z[0]/t_x_y_z[:,0], acc_x_y_z[1]/t_x_y_z[:,0], acc_x_y_z[2]/t_x_y_z[:,0]]\n",
    "    return v_x_y_z, acc_x_y_z, jerk_x_x_z"
   ]
  },
  {
   "cell_type": "code",
   "execution_count": 4,
   "metadata": {},
   "outputs": [],
   "source": [
    "def get_mean_std_v(v):\n",
    "    return np.mean(np.linalg.norm(v, axis=0)), np.std(np.linalg.norm(v, axis=0))"
   ]
  },
  {
   "cell_type": "code",
   "execution_count": 5,
   "metadata": {},
   "outputs": [],
   "source": [
    "def get_list_idle_time(subject, i, list_np_segmented_nh_rec, list_np_segmented_tw_rec):\n",
    "    needle_holder_rec = pd.read_csv(f'Data/Sync_data/S_{subject}_NH_reconstructed.csv')\n",
    "    tweezers_rec = pd.read_csv(f'Data/Sync_data/S_{subject}_TW_reconstructed.csv')\n",
    "    dict_segment_time = full_segments_time[i]\n",
    "    \n",
    "    full_time_segment_tw = pd_2_numpy_and_segment(tweezers_rec, dict_segment_time)\n",
    "    full_time_segment_nh = pd_2_numpy_and_segment(needle_holder_rec, dict_segment_time)\n",
    "\n",
    "    list_idle_nh = []\n",
    "    list_idle_tw = []\n",
    "    for s in range(8):\n",
    "        effective_t_nh = list_np_segmented_nh_rec[s][:,0]\n",
    "        effective_t_tw = list_np_segmented_tw_rec[s][:,0]\n",
    "        tot_time_nh = full_time_segment_nh[s][:,0]\n",
    "        tot_time_tw = full_time_segment_tw[s][:,0]\n",
    "        idle_time_nh = tot_time_nh.shape[0] * (1.0 / 120.0) - effective_t_nh.shape[0] * (1.0 / 120.0)\n",
    "        idle_time_tw = tot_time_tw.shape[0] * (1.0 / 120.0) - effective_t_tw.shape[0] * (1.0 / 120.0)\n",
    "        list_idle_nh.append(idle_time_nh)\n",
    "        list_idle_tw.append(idle_time_tw)\n",
    "    return list_idle_nh, list_idle_tw\n"
   ]
  },
  {
   "cell_type": "code",
   "execution_count": 6,
   "metadata": {},
   "outputs": [],
   "source": [
    "def get_economy_of_volume(segment_pos, PL):\n",
    "    x = segment_pos[:,0]\n",
    "    y = segment_pos[:,1]\n",
    "    z = segment_pos[:,2]\n",
    "\n",
    "    EOV = ((np.max(x)-np.min(x))*(np.max(y)-np.min(y))*(np.max(z)-np.min(z)))**(1/3)/PL\n",
    "    return EOV"
   ]
  },
  {
   "cell_type": "code",
   "execution_count": 7,
   "metadata": {},
   "outputs": [],
   "source": [
    "def get_mean_std_curvature (v, acc):\n",
    "    v = np.array(v)\n",
    "    acc = np.array(acc)\n",
    "    \n",
    "    with np.errstate(divide='ignore', invalid='ignore'):\n",
    "        curvature = np.where(v == 0, np.nan, (v * acc) / (v**3))\n",
    "    return np.nanmean(curvature), np.nanstd(curvature)"
   ]
  },
  {
   "cell_type": "code",
   "execution_count": 8,
   "metadata": {},
   "outputs": [],
   "source": [
    "def inverse_quaternion(quaternion):\n",
    "    q1, q2, q3, q4 = quaternion\n",
    "    inverse = [q1, -q2, -q3, -q4]/(q1**2 + q2**2 +q3**2 +q4**2) #nécessaire si normalisé???\n",
    "    return inverse"
   ]
  },
  {
   "cell_type": "code",
   "execution_count": 9,
   "metadata": {},
   "outputs": [],
   "source": [
    "def get_orientation_change(quaternion_nh, quaternion_tw): #SUPPRIMER UNE FOIS QUE L'AUTRE FONCTIONNE\n",
    "    #compute unitary quaternion\n",
    "    norm_quaternion_nh =  quaternion_nh/np.linalg.norm(quaternion_nh, axis=0)\n",
    "    norm_quaternion_tw =  quaternion_tw/np.linalg.norm(quaternion_tw, axis=0)\n",
    "\n",
    "    #compute inverse (according to wikipedia formula)\n",
    "    inverse_nh = []\n",
    "    for i in range (len(norm_quaternion_nh)):\n",
    "        inverse_nh.append(inverse_quaternion(norm_quaternion_nh[i,:]))\n",
    "    inverse_tw = []\n",
    "    for n in range (len(norm_quaternion_tw)):\n",
    "        inverse_tw.append(inverse_quaternion(norm_quaternion_tw[n,:]))\n",
    "\n",
    "    #compute rotation difference\n",
    "    deltaQ_nh = []\n",
    "    for j in range (len(norm_quaternion_nh)-1):\n",
    "        q = np.array(norm_quaternion_nh[j])\n",
    "        qinv = np.array(inverse_nh[j+1])\n",
    "        deltaQ_nh.append((q*qinv).tolist())\n",
    "    \n",
    "    deltaQ_tw = []\n",
    "    for j in range (len(norm_quaternion_tw)-1):\n",
    "        q = np.array(norm_quaternion_tw[j])\n",
    "        qinv = np.array(inverse_tw[j+1])\n",
    "        deltaQ_tw.append((q*qinv).tolist())\n",
    "\n",
    "    #compute orientation change\n",
    "    deltaTeta_nh = []\n",
    "    for p in range (len(deltaQ_nh)):\n",
    "        delta_orientation = 2*np.cos(deltaQ_nh[p][0])**(-1)\n",
    "        deltaTeta_nh.append(delta_orientation)\n",
    "\n",
    "    deltaTeta_tw = []\n",
    "    for p in range (len(deltaQ_tw)):\n",
    "        delta_orientation = 2*np.cos(deltaQ_tw[p][0])**(-1)\n",
    "        deltaTeta_tw.append(delta_orientation)\n",
    "    \n",
    "    return deltaTeta_nh, deltaTeta_tw\n",
    "    "
   ]
  },
  {
   "cell_type": "code",
   "execution_count": 10,
   "metadata": {},
   "outputs": [],
   "source": [
    "def get_orientation_change(quaternion):\n",
    "    #compute unitary quaternion\n",
    "    norm_quaternion =  quaternion/np.linalg.norm(quaternion, axis=0)\n",
    "    \n",
    "    #compute inverse (according to wikipedia formula)\n",
    "    inverse = []\n",
    "    for i in range (len(norm_quaternion)):\n",
    "        inverse.append(inverse_quaternion(norm_quaternion[i,:]))\n",
    "\n",
    "    #compute rotation difference\n",
    "    deltaQ = []\n",
    "    for j in range (len(norm_quaternion)-1):\n",
    "        q = np.array(norm_quaternion[j])\n",
    "        qinv = np.array(inverse[j+1])\n",
    "        deltaQ.append((q*qinv).tolist())\n",
    "\n",
    "    #compute orientation change\n",
    "    deltaTeta = []\n",
    "    for p in range (len(deltaQ)):\n",
    "        delta_orientation = 2*np.cos(deltaQ[p][0])**(-1)\n",
    "        deltaTeta.append(delta_orientation)\n",
    "    \n",
    "    return deltaTeta\n",
    "    "
   ]
  },
  {
   "cell_type": "code",
   "execution_count": 11,
   "metadata": {},
   "outputs": [],
   "source": [
    "def get_angular_displacement(quaternion):\n",
    "    deltaTeta = get_orientation_change(quaternion)\n",
    "    angular_disp = np.sum(np.abs(deltaTeta))\n",
    "    return angular_disp"
   ]
  },
  {
   "cell_type": "code",
   "execution_count": 12,
   "metadata": {},
   "outputs": [],
   "source": [
    "def get_rate_of_orientation_change(list_np_segmented):\n",
    "    time = list_np_segmented[:,0]\n",
    "    quaternion = list_np_segmented[:, 4:8]\n",
    "    dt = 1/120\n",
    "    diff_t = np.diff(time, axis = 0)\n",
    "    mask_step_bigger_dt = (diff_t>dt)\n",
    "    selected_time = time[1:][~mask_step_bigger_dt]\n",
    "    selected_quaternion = quaternion[1:][~mask_step_bigger_dt]\n",
    "\n",
    "    diff_selected_time = np.diff(selected_time, axis = 0)\n",
    "    deltaTeta = get_orientation_change(selected_quaternion)\n",
    "    rate_orientation_change = np.mean(np.abs(deltaTeta)/diff_selected_time)\n",
    "\n",
    "    return rate_orientation_change"
   ]
  },
  {
   "cell_type": "code",
   "execution_count": 13,
   "metadata": {},
   "outputs": [],
   "source": [
    "def get_bimanual_dexterity(segment_nh, segment_tw):\n",
    "    time_nh = segment_nh[:,0]\n",
    "    time_tw = segment_tw[:,0]\n",
    "    plt.scatter(time_nh, segment_nh[:,1])\n",
    "    plt.scatter(time_tw, segment_tw[:,1])\n",
    "    plt.show()\n",
    "    #mask_nh = np.isin(time_nh, time_tw).astype(int)\n",
    "    #mask_tw = np.isin(time_tw, time_nh).astype(int)\n",
    "    # Tolerance\n",
    "    tolerance = 1 / 120\n",
    "\n",
    "    # Compute the absolute differences between each pair of times\n",
    "    diff_matrix = np.abs(time_nh[:, np.newaxis] - time_tw)\n",
    "\n",
    "    # Create masks by checking if any of the differences are within the tolerance\n",
    "    mask_nh = np.any(diff_matrix <= tolerance, axis=1).astype(int)\n",
    "    mask_tw = np.any(diff_matrix.T <= tolerance, axis=1).astype(int)\n",
    "    \n",
    "    if ((np.sum(mask_nh)>60) and (np.sum(mask_tw)>60)):\n",
    "        t_pos_nh = segment_nh[mask_nh][:,0:4]\n",
    "        t_pos_tw = segment_tw[mask_tw][:,0:4]\n",
    "        v_nh, acc_nh, jerk_nh = compute_v_acc_jerk(t_pos_nh)\n",
    "        v_tw, acc_tw, jerk_tw = compute_v_acc_jerk(t_pos_tw)\n",
    "\n",
    "        v_stitch_nh = np.linalg.norm(v_nh, axis=0)\n",
    "        v_stitch_tw = np.linalg.norm(v_tw, axis=0)\n",
    "        \n",
    "        print(v_stitch_nh.shape)\n",
    "        print(v_stitch_tw.shape)\n",
    "\n",
    "        mean_v_tw = np.mean(v_stitch_tw)\n",
    "        mean_v_nh = np.mean(v_stitch_nh)\n",
    "\n",
    "        BD = np.sum((v_stitch_nh - mean_v_nh)*(v_stitch_tw - mean_v_tw))/np.sqrt(np.sum((v_stitch_nh - mean_v_nh)**2)*np.sum((v_stitch_tw - mean_v_tw)**2))\n",
    "        return BD\n",
    "    else: return np.nan #for some stictches there is not enough points to compute BD\n",
    "    \n"
   ]
  },
  {
   "cell_type": "code",
   "execution_count": 14,
   "metadata": {},
   "outputs": [],
   "source": [
    "def get_features_simplified(subject_id, i, list_np_segmented_tw_rec, list_np_segmented_nh_rec, save =True):\n",
    "    # just for the task cluster\n",
    "\n",
    "    if save:\n",
    "        directory = f\"/Features/S_{subject_id}/\"\n",
    "        if not os.path.exists(directory):\n",
    "            os.makedirs(directory, exist_ok=True)\n",
    " \n",
    "    NUMBER_OF_SEGMENTS = 8 \n",
    "\n",
    "    df_metric = pd.DataFrame(columns=['Tool', 'Stitch','Effective_task_duration', 'Idle_time',  'Path_length', 'Jerk', 'Mean_v', 'Std_v', 'Economy_of_volume',\n",
    "                                       'Mean_curvature', 'Std_curvature', 'Angular_displacement', 'Rate_of_orientation_change']) #, 'Bimanual_dexterity'])\n",
    "\n",
    "    list_idle_nh, list_idle_tw = get_list_idle_time(subject_id, i, list_np_segmented_nh_rec, list_np_segmented_tw_rec)\n",
    "    #for s in range (NUMBER_OF_SEGMENTS):\n",
    "    for s in range (5,NUMBER_OF_SEGMENTS):\n",
    "        t_tw = list_np_segmented_tw_rec[s][:,0]\n",
    "        t_nh = list_np_segmented_nh_rec[s][:,0]\n",
    "\n",
    "        idle_t_tw = list_idle_tw[s]\n",
    "        idle_t_nh = list_idle_nh[s]\n",
    "\n",
    "        path_length_tw = get_path_length_g(t_tw, list_np_segmented_tw_rec[s][:,1:4])\n",
    "        path_length_nh = get_path_length_g(t_nh, list_np_segmented_nh_rec[s][:,1:4])\n",
    "\n",
    "        v_tw, acc_tw, jerk_tw = compute_v_acc_jerk(list_np_segmented_tw_rec[s][:,0:4])\n",
    "        v_nh, acc_nh, jerk_nh = compute_v_acc_jerk(list_np_segmented_nh_rec[s][:,0:4])\n",
    "\n",
    "        jerk_approximation_tw = get_jerk(list_np_segmented_tw_rec[s][1:,0], v_tw, acc_tw, jerk_tw) #acc not usefull\n",
    "        jerk_approximation_nh = get_jerk(list_np_segmented_nh_rec[s][1:,0], v_nh, acc_nh, jerk_nh) #acc not usefull\n",
    "\n",
    "        mean_v_tw, std_v_tw = get_mean_std_v(v_tw)\n",
    "        mean_v_nh, std_v_nh = get_mean_std_v(v_nh)\n",
    "\n",
    "        EOV_nh = get_economy_of_volume(list_np_segmented_nh_rec[s][:,1:4], path_length_nh)\n",
    "        EOV_tw = get_economy_of_volume(list_np_segmented_tw_rec[s][:,1:4], path_length_tw)\n",
    "\n",
    "        mean_curvature_nh, std_curvature_nh = get_mean_std_curvature(v_nh, acc_nh)\n",
    "        mean_curvature_tw, std_curvature_tw = get_mean_std_curvature(v_tw, acc_tw)\n",
    "\n",
    "        ang_disp_nh= get_angular_displacement(list_np_segmented_nh_rec[s][:, 4:8])\n",
    "        ang_disp_tw = get_angular_displacement(list_np_segmented_tw_rec[s][:, 4:8])\n",
    "\n",
    "        rate_orientation_change_nh = get_rate_of_orientation_change(list_np_segmented_nh_rec[s])\n",
    "        rate_orientation_change_tw = get_rate_of_orientation_change(list_np_segmented_tw_rec[s])\n",
    "        \n",
    "        #BD = get_bimanual_dexterity(list_np_segmented_nh_rec[s], list_np_segmented_tw_rec[s])\n",
    "        \n",
    "        df_metric.loc[len(df_metric)] = ['TW', s, t_tw.shape[0] * (1.0 / 120.0), idle_t_tw,  path_length_tw, jerk_approximation_tw, mean_v_tw, std_v_tw,\n",
    "                                          EOV_tw, mean_curvature_tw, std_curvature_tw, ang_disp_tw, rate_orientation_change_tw]#, BD]\n",
    "        df_metric.loc[len(df_metric)] = ['NH', s, t_nh.shape[0] * (1.0 / 120.0), idle_t_nh,  path_length_nh, jerk_approximation_nh, mean_v_nh, std_v_nh,\n",
    "                                          EOV_nh, mean_curvature_nh, std_curvature_nh, ang_disp_nh, rate_orientation_change_nh]#, BD]\n",
    "\n",
    "    if save: \n",
    "        df_metric.to_csv(f'{directory}/df_metrics.csv', index=False)\n",
    "        return df_metric\n",
    "\n",
    "    else:\n",
    "        return df_metric\n",
    "    "
   ]
  },
  {
   "cell_type": "code",
   "execution_count": 15,
   "metadata": {},
   "outputs": [
    {
     "data": {
      "image/png": "[encoded data removed]",
      "text/plain": [
       "<Figure size 640x480 with 1 Axes>"
      ]
     },
     "metadata": {},
     "output_type": "display_data"
    },
    {
     "name": "stderr",
     "output_type": "stream",
     "text": [
      "C:\\Users\\Gaelle_V\\AppData\\Local\\Temp\\ipykernel_12436\\4025806545.py:6: RuntimeWarning: invalid value encountered in divide\n",
      "  v_x_y_z = [t_x_y_z[:,1]/t_x_y_z[:,0], t_x_y_z[:,2]/t_x_y_z[:,0], t_x_y_z[:,3]/t_x_y_z[:,0]]\n"
     ]
    },
    {
     "name": "stdout",
     "output_type": "stream",
     "text": [
      "(8196,)\n",
      "(9591,)\n"
     ]
    },
    {
     "ename": "ValueError",
     "evalue": "operands could not be broadcast together with shapes (8196,) (9591,) ",
     "output_type": "error",
     "traceback": [
      "\u001b[1;31m---------------------------------------------------------------------------\u001b[0m",
      "\u001b[1;31mValueError\u001b[0m                                Traceback (most recent call last)",
      "Cell \u001b[1;32mIn[15], line 12\u001b[0m\n\u001b[0;32m      9\u001b[0m list_np_segmented_tw_rec \u001b[38;5;241m=\u001b[39m pd_2_numpy_and_segment(selected_tw, dict_segment_time)\n\u001b[0;32m     10\u001b[0m list_np_segmented_nh_rec \u001b[38;5;241m=\u001b[39m pd_2_numpy_and_segment(selected_nh, dict_segment_time)\n\u001b[1;32m---> 12\u001b[0m df_metrics \u001b[38;5;241m=\u001b[39m \u001b[43mget_features_simplified\u001b[49m\u001b[43m(\u001b[49m\u001b[43msubject\u001b[49m\u001b[43m,\u001b[49m\u001b[43m \u001b[49m\u001b[43mi\u001b[49m\u001b[43m,\u001b[49m\u001b[43m \u001b[49m\u001b[43mlist_np_segmented_tw_rec\u001b[49m\u001b[43m,\u001b[49m\u001b[43m \u001b[49m\u001b[43mlist_np_segmented_nh_rec\u001b[49m\u001b[43m,\u001b[49m\u001b[43m \u001b[49m\u001b[43msave\u001b[49m\u001b[43m \u001b[49m\u001b[38;5;241;43m=\u001b[39;49m\u001b[38;5;28;43;01mFalse\u001b[39;49;00m\u001b[43m)\u001b[49m\n\u001b[0;32m     13\u001b[0m \u001b[38;5;28mprint\u001b[39m(subject)\n\u001b[0;32m     14\u001b[0m \u001b[38;5;28mprint\u001b[39m(df_metrics)\n",
      "Cell \u001b[1;32mIn[14], line 47\u001b[0m, in \u001b[0;36mget_features_simplified\u001b[1;34m(subject_id, i, list_np_segmented_tw_rec, list_np_segmented_nh_rec, save)\u001b[0m\n\u001b[0;32m     44\u001b[0m rate_orientation_change_nh \u001b[38;5;241m=\u001b[39m get_rate_of_orientation_change(list_np_segmented_nh_rec[s])\n\u001b[0;32m     45\u001b[0m rate_orientation_change_tw \u001b[38;5;241m=\u001b[39m get_rate_of_orientation_change(list_np_segmented_tw_rec[s])\n\u001b[1;32m---> 47\u001b[0m BD \u001b[38;5;241m=\u001b[39m \u001b[43mget_bimanual_dexterity\u001b[49m\u001b[43m(\u001b[49m\u001b[43mlist_np_segmented_nh_rec\u001b[49m\u001b[43m[\u001b[49m\u001b[43ms\u001b[49m\u001b[43m]\u001b[49m\u001b[43m,\u001b[49m\u001b[43m \u001b[49m\u001b[43mlist_np_segmented_tw_rec\u001b[49m\u001b[43m[\u001b[49m\u001b[43ms\u001b[49m\u001b[43m]\u001b[49m\u001b[43m)\u001b[49m\n\u001b[0;32m     49\u001b[0m df_metric\u001b[38;5;241m.\u001b[39mloc[\u001b[38;5;28mlen\u001b[39m(df_metric)] \u001b[38;5;241m=\u001b[39m [\u001b[38;5;124m'\u001b[39m\u001b[38;5;124mTW\u001b[39m\u001b[38;5;124m'\u001b[39m, s, t_tw\u001b[38;5;241m.\u001b[39mshape[\u001b[38;5;241m0\u001b[39m] \u001b[38;5;241m*\u001b[39m (\u001b[38;5;241m1.0\u001b[39m \u001b[38;5;241m/\u001b[39m \u001b[38;5;241m120.0\u001b[39m), idle_t_tw,  path_length_tw, jerk_approximation_tw, mean_v_tw, std_v_tw,\n\u001b[0;32m     50\u001b[0m                                   EOV_tw, mean_curvature_tw, std_curvature_tw, ang_disp_tw, rate_orientation_change_tw, BD]\n\u001b[0;32m     51\u001b[0m df_metric\u001b[38;5;241m.\u001b[39mloc[\u001b[38;5;28mlen\u001b[39m(df_metric)] \u001b[38;5;241m=\u001b[39m [\u001b[38;5;124m'\u001b[39m\u001b[38;5;124mNH\u001b[39m\u001b[38;5;124m'\u001b[39m, s, t_nh\u001b[38;5;241m.\u001b[39mshape[\u001b[38;5;241m0\u001b[39m] \u001b[38;5;241m*\u001b[39m (\u001b[38;5;241m1.0\u001b[39m \u001b[38;5;241m/\u001b[39m \u001b[38;5;241m120.0\u001b[39m), idle_t_nh,  path_length_nh, jerk_approximation_nh, mean_v_nh, std_v_nh,\n\u001b[0;32m     52\u001b[0m                                   EOV_nh, mean_curvature_nh, std_curvature_nh, ang_disp_nh, rate_orientation_change_nh, BD]\n",
      "Cell \u001b[1;32mIn[13], line 34\u001b[0m, in \u001b[0;36mget_bimanual_dexterity\u001b[1;34m(segment_nh, segment_tw)\u001b[0m\n\u001b[0;32m     31\u001b[0m     mean_v_tw \u001b[38;5;241m=\u001b[39m np\u001b[38;5;241m.\u001b[39mmean(v_stitch_tw)\n\u001b[0;32m     32\u001b[0m     mean_v_nh \u001b[38;5;241m=\u001b[39m np\u001b[38;5;241m.\u001b[39mmean(v_stitch_nh)\n\u001b[1;32m---> 34\u001b[0m     BD \u001b[38;5;241m=\u001b[39m np\u001b[38;5;241m.\u001b[39msum(\u001b[43m(\u001b[49m\u001b[43mv_stitch_nh\u001b[49m\u001b[43m \u001b[49m\u001b[38;5;241;43m-\u001b[39;49m\u001b[43m \u001b[49m\u001b[43mmean_v_nh\u001b[49m\u001b[43m)\u001b[49m\u001b[38;5;241;43m*\u001b[39;49m\u001b[43m(\u001b[49m\u001b[43mv_stitch_tw\u001b[49m\u001b[43m \u001b[49m\u001b[38;5;241;43m-\u001b[39;49m\u001b[43m \u001b[49m\u001b[43mmean_v_tw\u001b[49m\u001b[43m)\u001b[49m)\u001b[38;5;241m/\u001b[39mnp\u001b[38;5;241m.\u001b[39msqrt(np\u001b[38;5;241m.\u001b[39msum((v_stitch_nh \u001b[38;5;241m-\u001b[39m mean_v_nh)\u001b[38;5;241m*\u001b[39m\u001b[38;5;241m*\u001b[39m\u001b[38;5;241m2\u001b[39m)\u001b[38;5;241m*\u001b[39mnp\u001b[38;5;241m.\u001b[39msum((v_stitch_tw \u001b[38;5;241m-\u001b[39m mean_v_tw)\u001b[38;5;241m*\u001b[39m\u001b[38;5;241m*\u001b[39m\u001b[38;5;241m2\u001b[39m))\n\u001b[0;32m     35\u001b[0m     \u001b[38;5;28;01mreturn\u001b[39;00m BD\n\u001b[0;32m     36\u001b[0m \u001b[38;5;28;01melse\u001b[39;00m: \u001b[38;5;28;01mreturn\u001b[39;00m np\u001b[38;5;241m.\u001b[39mnan\n",
      "\u001b[1;31mValueError\u001b[0m: operands could not be broadcast together with shapes (8196,) (9591,) "
     ]
    }
   ],
   "source": [
    "subjects=[1,19, 23,7, 24, 26, 10, 13, 16, 17, 20, 27]\n",
    "i=0\n",
    "for subject in subjects:\n",
    "    #select data points corresponding to the main task\n",
    "    selected_nh,selected_tw = run_step1_per_subject(subject,i)\n",
    "\n",
    "    #cut the time points in stitches\n",
    "    dict_segment_time = full_segments_time[i]\n",
    "    list_np_segmented_tw_rec = pd_2_numpy_and_segment(selected_tw, dict_segment_time)\n",
    "    list_np_segmented_nh_rec = pd_2_numpy_and_segment(selected_nh, dict_segment_time)\n",
    "\n",
    "    df_metrics = get_features_simplified(subject, i, list_np_segmented_tw_rec, list_np_segmented_nh_rec, save =False)\n",
    "    print(subject)\n",
    "    print(df_metrics)\n",
    "    i=i+1"
   ]
  }
 ],
 "metadata": {
  "kernelspec": {
   "display_name": "LASA",
   "language": "python",
   "name": "python3"
  },
  "language_info": {
   "codemirror_mode": {
    "name": "ipython",
    "version": 3
   },
   "file_extension": ".py",
   "mimetype": "text/x-python",
   "name": "python",
   "nbconvert_exporter": "python",
   "pygments_lexer": "ipython3",
   "version": "3.9.18"
  }
 },
 "nbformat": 4,
 "nbformat_minor": 2
}
