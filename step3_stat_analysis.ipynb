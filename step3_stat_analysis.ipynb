{
 "cells": [
  {
   "cell_type": "code",
   "execution_count": 5,
   "metadata": {},
   "outputs": [],
   "source": [
    "import numpy as np\n",
    "import seaborn as sns\n",
    "import pandas as pd\n",
    "import matplotlib.pyplot as plt\n",
    "from scipy.stats import ranksums\n",
    "from scipy.stats import shapiro"
   ]
  },
  {
   "cell_type": "code",
   "execution_count": null,
   "metadata": {},
   "outputs": [],
   "source": [
    "# tools, samples, metrics\n",
    "GROUPS_NAMES = ['E', 'N']\n",
    "METRICS  = 8\n",
    "expert = np.empty((2, 16, METRICS))\n",
    "novice = np.empty((2, 16, METRICS))\n",
    "expert_subjects = 0\n",
    "novice_subjects = 0"
   ]
  },
  {
   "cell_type": "code",
   "execution_count": null,
   "metadata": {},
   "outputs": [],
   "source": [
    "def determine_expertise(score):\n",
    "    if (score < 4): return GROUPS_NAMES[0] #expert\n",
    "    else : return GROUPS_NAMES[1] #non expert"
   ]
  },
  {
   "cell_type": "code",
   "execution_count": null,
   "metadata": {},
   "outputs": [],
   "source": [
    "def get_expertise(subject):\n",
    "    subjects_info = np.load(\"subject_info_modified.npy\")\n",
    "    for row in subjects_info:\n",
    "        if row[0] == subject:\n",
    "            score = row[-1]\n",
    "            return score"
   ]
  },
  {
   "cell_type": "code",
   "execution_count": null,
   "metadata": {},
   "outputs": [],
   "source": [
    "subjects = [1,19, 23,7, 24, 26, 10, 13, 16, 17, 20, 27]\n",
    "subjects = [1,19]\n",
    "for subject in subjects:\n",
    "    metrics = pd.load_csv(f'Features/S_{subject}/df_metrics.csv')"
   ]
  },
  {
   "cell_type": "code",
   "execution_count": 30,
   "metadata": {},
   "outputs": [
    {
     "data": {
      "text/plain": [
       "11"
      ]
     },
     "execution_count": 30,
     "metadata": {},
     "output_type": "execute_result"
    }
   ],
   "source": [
    "df = pd.read_csv(f'Features/S_{19}/df_metrics.csv')\n",
    "df_nh = df[df['Tool']=='NH'] #1\n",
    "df_tw = df[df['Tool']=='TW'] #0\n",
    "array_metric = df_tw.loc[:, 'Effective_task_duration':].values\n",
    "stitches = np.array([0,1,2,3,4,5,6,7])\n",
    "\n",
    "len(array_metric[0])"
   ]
  },
  {
   "cell_type": "code",
   "execution_count": 34,
   "metadata": {},
   "outputs": [
    {
     "ename": "ValueError",
     "evalue": "setting an array element with a sequence. The requested array has an inhomogeneous shape after 1 dimensions. The detected shape was (3,) + inhomogeneous part.",
     "output_type": "error",
     "traceback": [
      "\u001b[1;31m---------------------------------------------------------------------------\u001b[0m",
      "\u001b[1;31mValueError\u001b[0m                                Traceback (most recent call last)",
      "Cell \u001b[1;32mIn[34], line 6\u001b[0m\n\u001b[0;32m      4\u001b[0m \u001b[38;5;28;01mfor\u001b[39;00m s \u001b[38;5;129;01min\u001b[39;00m \u001b[38;5;28mrange\u001b[39m(\u001b[38;5;241m8\u001b[39m):\n\u001b[0;32m      5\u001b[0m     \u001b[38;5;28;01mfor\u001b[39;00m m \u001b[38;5;129;01min\u001b[39;00m \u001b[38;5;28mrange\u001b[39m(test):\n\u001b[1;32m----> 6\u001b[0m         expert[\u001b[38;5;241m0\u001b[39m,s,:]\u001b[38;5;241m=\u001b[39m\u001b[43mnp\u001b[49m\u001b[38;5;241;43m.\u001b[39;49m\u001b[43marray\u001b[49m\u001b[43m(\u001b[49m\u001b[43m[\u001b[49m\u001b[38;5;241;43m0\u001b[39;49m\u001b[43m,\u001b[49m\u001b[43m \u001b[49m\u001b[43ms\u001b[49m\u001b[43m,\u001b[49m\u001b[43m \u001b[49m\u001b[43marray_metric\u001b[49m\u001b[43m[\u001b[49m\u001b[43ms\u001b[49m\u001b[43m]\u001b[49m\u001b[43m]\u001b[49m\u001b[43m)\u001b[49m\n\u001b[0;32m      7\u001b[0m expert\n",
      "\u001b[1;31mValueError\u001b[0m: setting an array element with a sequence. The requested array has an inhomogeneous shape after 1 dimensions. The detected shape was (3,) + inhomogeneous part."
     ]
    }
   ],
   "source": [
    "test = 11\n",
    "expert = np.empty((2, 8, test)) #2 sujets expert\n",
    "number = 0\n",
    "for s in range(8):\n",
    "    for m in range(test):\n",
    "        expert[0,s,:]=np.array([0, s, array_metric[s]])\n",
    "expert\n"
   ]
  }
 ],
 "metadata": {
  "kernelspec": {
   "display_name": "LASA",
   "language": "python",
   "name": "python3"
  },
  "language_info": {
   "codemirror_mode": {
    "name": "ipython",
    "version": 3
   },
   "file_extension": ".py",
   "mimetype": "text/x-python",
   "name": "python",
   "nbconvert_exporter": "python",
   "pygments_lexer": "ipython3",
   "version": "3.9.18"
  }
 },
 "nbformat": 4,
 "nbformat_minor": 2
}
